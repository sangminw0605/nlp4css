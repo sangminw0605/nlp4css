{
 "cells": [
  {
   "cell_type": "code",
   "execution_count": 1,
   "metadata": {
    "ExecuteTime": {
     "end_time": "2022-11-30T02:39:47.482449Z",
     "start_time": "2022-11-30T02:39:47.474090Z"
    }
   },
   "outputs": [],
   "source": [
    "# Imports\n",
    "import pickle\n",
    "import os\n",
    "from utils import load_samples, annotate, get_demographics, save_demographics, load_annotations, export_csv\n",
    "\n",
    "ANNOTATER_NAME=\"Sangmin\"\n",
    "PATH_SAVE=f\"./{ANNOTATER_NAME}.pkl\"\n",
    "samples = load_samples(\"data/common1.csv\")"
   ]
  },
  {
   "cell_type": "markdown",
   "metadata": {},
   "source": [
    "#  Demographics"
   ]
  },
  {
   "cell_type": "code",
   "execution_count": 2,
   "metadata": {},
   "outputs": [
    {
     "data": {
      "application/vnd.jupyter.widget-view+json": {
       "model_id": "4d64647a4bbc4dd8a5a2a795521e1c76",
       "version_major": 2,
       "version_minor": 0
      },
      "text/plain": [
       "ToggleButtons(description='You personally identify as:', options=('Female', 'Male'), value=None)"
      ]
     },
     "metadata": {},
     "output_type": "display_data"
    },
    {
     "data": {
      "application/vnd.jupyter.widget-view+json": {
       "model_id": "79775b16e5154f0293aabcee08f66d07",
       "version_major": 2,
       "version_minor": 0
      },
      "text/plain": [
       "ToggleButtons(description='Please select the correct age bracket:', options=('0-15', '15-25', '25-35', '35+'),…"
      ]
     },
     "metadata": {},
     "output_type": "display_data"
    }
   ],
   "source": [
    "demographics = get_demographics()"
   ]
  },
  {
   "cell_type": "markdown",
   "metadata": {},
   "source": [
    "# Instructions"
   ]
  },
  {
   "cell_type": "markdown",
   "metadata": {},
   "source": [
    "<p>For this task you will read comments written in response to a TED video. We will ask you to only consider the portions of the text that are about <b>the original speaker</b> rather than  <b>the content of the video</b>. After, we will ask you to rate the tone of that part of the comment on a simple negative/positive scale. Finally, we ask you a few questions about the comment overall. </p>\n",
    "\n",
    "<p>For instance, given a comment like:</p>\n",
    "\n",
    "<p class=\"text-center\" style=\"padding-left:10%;padding-right:10%;font-size:120%\">You still don't get it! The earth must be flat, otherwise we'd all just roll off.</p>\n",
    "\n",
    "<p>When asked to focus on the parts about <b>the original poster or speaker</b>, you might focus on the highlighted text:</p>\n",
    "\n",
    "<p class=\"text-center\" style=\"padding-left:10%;padding-right:10%;font-size:120%\"><mark>You still don't get it! </mark>The earth must be flat, otherwise we'd all just roll off.</p>\n",
    "\n",
    "<p> ... because the first half of the comment is not about the content of the video but instead about the speaker who delivered it. You might select \"negative\" for its tone since this portion of the comment is making an attack with emphasis.</p>\n",
    "\n",
    "<p>You may select <i>None</i> as the tone of the comment if you believe no portion of the comment addresses the speaker. You must answer all questions in order to proceed </p>"
   ]
  },
  {
   "cell_type": "code",
   "execution_count": 3,
   "metadata": {
    "ExecuteTime": {
     "end_time": "2022-11-25T21:37:35.171363Z",
     "start_time": "2022-11-25T21:37:34.603629Z"
    }
   },
   "outputs": [
    {
     "data": {
      "application/vnd.jupyter.widget-view+json": {
       "model_id": "bb9d613c5fe14e88a6f2703119f166da",
       "version_major": 2,
       "version_minor": 0
      },
      "text/plain": [
       "HTML(value='0 of 40 Examples annotated, Current Position: 1')"
      ]
     },
     "metadata": {},
     "output_type": "display_data"
    },
    {
     "data": {
      "application/vnd.jupyter.widget-view+json": {
       "model_id": "ff40a0ff65b54244b453fa529fbd34a4",
       "version_major": 2,
       "version_minor": 0
      },
      "text/plain": [
       "HTML(value='')"
      ]
     },
     "metadata": {},
     "output_type": "display_data"
    },
    {
     "data": {
      "application/vnd.jupyter.widget-view+json": {
       "model_id": "1da6b898678b4b6cbb1c443a665f8b49",
       "version_major": 2,
       "version_minor": 0
      },
      "text/plain": [
       "ToggleButtons(description='What is the tone of the response with regards to the original poster or speaker?', …"
      ]
     },
     "metadata": {},
     "output_type": "display_data"
    },
    {
     "data": {
      "application/vnd.jupyter.widget-view+json": {
       "model_id": "38b1d0fcff8140788b6bfcf93d848efd",
       "version_major": 2,
       "version_minor": 0
      },
      "text/plain": [
       "ToggleButtons(description='Based on the comment, what do you think is the expertise of the speaker?', options=…"
      ]
     },
     "metadata": {},
     "output_type": "display_data"
    },
    {
     "data": {
      "application/vnd.jupyter.widget-view+json": {
       "model_id": "3e1c4e109d964d16b1cacdeb53ddba25",
       "version_major": 2,
       "version_minor": 0
      },
      "text/plain": [
       "ToggleButtons(description='Overall, is this response:', options=('Encouraging', 'Discouraging'), value=None)"
      ]
     },
     "metadata": {},
     "output_type": "display_data"
    },
    {
     "data": {
      "application/vnd.jupyter.widget-view+json": {
       "model_id": "62f9baffc29946d5b873efa5c24875d4",
       "version_major": 2,
       "version_minor": 0
      },
      "text/plain": [
       "ToggleButtons(description='Overall, is this response:', options=('Disrespectful', 'Neutral', 'Respectful'), va…"
      ]
     },
     "metadata": {},
     "output_type": "display_data"
    },
    {
     "data": {
      "application/vnd.jupyter.widget-view+json": {
       "model_id": "af9234bc02774b5199d1b57b6f0e5560",
       "version_major": 2,
       "version_minor": 0
      },
      "text/plain": [
       "Button(button_style='info', description='submit', icon='check', style=ButtonStyle())"
      ]
     },
     "metadata": {},
     "output_type": "display_data"
    }
   ],
   "source": [
    "annotations = annotate(\n",
    "    samples,\n",
    "    PATH_SAVE\n",
    ")"
   ]
  },
  {
   "cell_type": "code",
   "execution_count": null,
   "metadata": {},
   "outputs": [],
   "source": [
    "# Save demographics\n",
    "save_demographics(PATH_SAVE, demographics)"
   ]
  },
  {
   "cell_type": "code",
   "execution_count": null,
   "metadata": {},
   "outputs": [],
   "source": [
    "# (optional) export csv\n",
    "export_csv(PATH_SAVE, \"./Template.csv\")"
   ]
  },
  {
   "cell_type": "code",
   "execution_count": null,
   "metadata": {
    "ExecuteTime": {
     "end_time": "2022-11-22T21:26:45.723168Z",
     "start_time": "2022-11-22T21:26:45.710253Z"
    }
   },
   "outputs": [],
   "source": [
    "# (optional) if you are worried about your annotations, run this cell\n",
    "try:\n",
    "    saved_annotations, examples = load_annotations(PATH_SAVE, [])\n",
    "    print(f\"{len(saved_annotations['annots'])} annotations saved to {PATH_SAVE} so far\")\n",
    "except:\n",
    "    print(f\"nothing has been saved to {PATH_SAVE}\")"
   ]
  }
 ],
 "metadata": {
  "kernelspec": {
   "display_name": "Python 3 (ipykernel)",
   "language": "python",
   "name": "python3"
  },
  "language_info": {
   "codemirror_mode": {
    "name": "ipython",
    "version": 3
   },
   "file_extension": ".py",
   "mimetype": "text/x-python",
   "name": "python",
   "nbconvert_exporter": "python",
   "pygments_lexer": "ipython3",
   "version": "3.11.8"
  },
  "nbTranslate": {
   "displayLangs": [
    "*"
   ],
   "hotkey": "alt-t",
   "langInMainMenu": true,
   "sourceLang": "en",
   "targetLang": "fr",
   "useGoogleTranslate": true
  },
  "toc": {
   "base_numbering": 1,
   "nav_menu": {},
   "number_sections": true,
   "sideBar": true,
   "skip_h1_title": false,
   "title_cell": "Table of Contents",
   "title_sidebar": "Contents",
   "toc_cell": false,
   "toc_position": {},
   "toc_section_display": true,
   "toc_window_display": false
  }
 },
 "nbformat": 4,
 "nbformat_minor": 4
}
