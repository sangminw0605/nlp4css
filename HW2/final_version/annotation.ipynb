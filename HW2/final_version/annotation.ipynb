{
 "cells": [
  {
   "cell_type": "code",
   "execution_count": null,
   "metadata": {
    "ExecuteTime": {
     "end_time": "2022-11-30T02:39:47.482449Z",
     "start_time": "2022-11-30T02:39:47.474090Z"
    }
   },
   "outputs": [],
   "source": [
    "# Imports\n",
    "import pickle\n",
    "import os\n",
    "from utils import load_samples, annotate, get_demographics, save_demographics, load_annotations, export_csv\n",
    "\n",
    "ANNOTATER_NAME=\"Template\"\n",
    "PATH_SAVE=f\"./{ANNOTATER_NAME}.pkl\"\n",
    "samples = load_samples(\"data/common1.csv\")"
   ]
  },
  {
   "cell_type": "markdown",
   "metadata": {},
   "source": [
    "#  Demographics"
   ]
  },
  {
   "cell_type": "code",
   "execution_count": null,
   "metadata": {},
   "outputs": [],
   "source": [
    "demographics = get_demographics()"
   ]
  },
  {
   "cell_type": "markdown",
   "metadata": {},
   "source": [
    "# Instructions"
   ]
  },
  {
   "cell_type": "markdown",
   "metadata": {},
   "source": [
    "<p>For this task you will read comments written in response to a TED video. We will ask you to only consider the portions of the text that are about <b>the original speaker</b> rather than  <b>the content of the video</b>. After, we will ask you to rate the tone of that part of the comment on a simple negative/positive scale. Finally, we ask you a few questions about the comment overall. </p>\n",
    "\n",
    "<p>For instance, given a comment like:</p>\n",
    "\n",
    "<p class=\"text-center\" style=\"padding-left:10%;padding-right:10%;font-size:120%\">You still don't get it! The earth must be flat, otherwise we'd all just roll off.</p>\n",
    "\n",
    "<p>When asked to focus on the parts about <b>the original poster or speaker</b>, you might focus on the highlighted text:</p>\n",
    "\n",
    "<p class=\"text-center\" style=\"padding-left:10%;padding-right:10%;font-size:120%\"><mark>You still don't get it! </mark>The earth must be flat, otherwise we'd all just roll off.</p>\n",
    "\n",
    "<p> ... because the first half of the comment is not about the content of the video but instead about the speaker who delivered it. You might select \"negative\" for its tone since this portion of the comment is making an attack with emphasis.</p>\n",
    "\n",
    "<p>You may select <i>None</i> as the tone of the comment if you believe no portion of the comment addresses the speaker. You must answer all questions in order to proceed </p>"
   ]
  },
  {
   "cell_type": "code",
   "execution_count": null,
   "metadata": {
    "ExecuteTime": {
     "end_time": "2022-11-25T21:37:35.171363Z",
     "start_time": "2022-11-25T21:37:34.603629Z"
    }
   },
   "outputs": [],
   "source": [
    "annotations = annotate(\n",
    "    samples,\n",
    "    PATH_SAVE\n",
    ")"
   ]
  },
  {
   "cell_type": "code",
   "execution_count": null,
   "metadata": {},
   "outputs": [],
   "source": [
    "# Save demographics\n",
    "save_demographics(PATH_SAVE, demographics)"
   ]
  },
  {
   "cell_type": "code",
   "execution_count": null,
   "metadata": {},
   "outputs": [],
   "source": [
    "# (optional) export csv\n",
    "export_csv(PATH_SAVE, \"./Template.csv\")"
   ]
  },
  {
   "cell_type": "code",
   "execution_count": null,
   "metadata": {
    "ExecuteTime": {
     "end_time": "2022-11-22T21:26:45.723168Z",
     "start_time": "2022-11-22T21:26:45.710253Z"
    }
   },
   "outputs": [],
   "source": [
    "# (optional) if you are worried about your annotations, run this cell\n",
    "try:\n",
    "    saved_annotations, examples = load_annotations(PATH_SAVE, [])\n",
    "    print(f\"{len(saved_annotations['annots'])} annotations saved to {PATH_SAVE} so far\")\n",
    "except:\n",
    "    print(f\"nothing has been saved to {PATH_SAVE}\")"
   ]
  }
 ],
 "metadata": {
  "kernelspec": {
   "display_name": "NLP4CSS-HW2",
   "language": "python",
   "name": "nlp4css-hw2"
  },
  "language_info": {
   "codemirror_mode": {
    "name": "ipython",
    "version": 3
   },
   "file_extension": ".py",
   "mimetype": "text/x-python",
   "name": "python",
   "nbconvert_exporter": "python",
   "pygments_lexer": "ipython3",
   "version": "3.10.13"
  },
  "nbTranslate": {
   "displayLangs": [
    "*"
   ],
   "hotkey": "alt-t",
   "langInMainMenu": true,
   "sourceLang": "en",
   "targetLang": "fr",
   "useGoogleTranslate": true
  },
  "toc": {
   "base_numbering": 1,
   "nav_menu": {},
   "number_sections": true,
   "sideBar": true,
   "skip_h1_title": false,
   "title_cell": "Table of Contents",
   "title_sidebar": "Contents",
   "toc_cell": false,
   "toc_position": {},
   "toc_section_display": true,
   "toc_window_display": false
  }
 },
 "nbformat": 4,
 "nbformat_minor": 4
}
